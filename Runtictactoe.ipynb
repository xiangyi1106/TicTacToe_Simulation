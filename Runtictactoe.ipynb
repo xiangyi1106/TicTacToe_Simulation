{
 "cells": [
  {
   "cell_type": "code",
   "execution_count": 2,
   "id": "ba301258-559b-4774-b384-780c276b885e",
   "metadata": {},
   "outputs": [
    {
     "name": "stdout",
     "output_type": "stream",
     "text": [
      "Instruction:\n",
      "Player 1 is 'X', and Player 2 is 'O'. Players take turns to make their moves by entering the position.\n",
      "Possible positions that can be entered are: \n",
      "top-l (top left), top-c (top center), top-r (top right),\n",
      "mid-l (middle left), mid-c (middle center), mid-r (middle right),\n",
      "bot-l (bottom left), bot-c (bottom center), bot-r (bottom right).\n",
      "The first player to get three of their marks in a row (horizontally, vertically, or diagonally) wins!\n",
      "\n",
      "Game Start!\n",
      "\n",
      "  |   | \n",
      "- + - + -\n",
      "  |   | \n",
      "- + - + -\n",
      "  |   | \n",
      "\n"
     ]
    },
    {
     "name": "stdin",
     "output_type": "stream",
     "text": [
      "Turn for X. Move to which space? Eg:(top-l/c/r, mid-l/c/r, bot-l/c/r) top-l\n"
     ]
    },
    {
     "name": "stdout",
     "output_type": "stream",
     "text": [
      "X  |   | \n",
      "- + - + -\n",
      "  |   | \n",
      "- + - + -\n",
      "  |   | \n",
      "\n"
     ]
    },
    {
     "name": "stdin",
     "output_type": "stream",
     "text": [
      "Turn for O. Move to which space? Eg:(top-l/c/r, mid-l/c/r, bot-l/c/r) top-c\n"
     ]
    },
    {
     "name": "stdout",
     "output_type": "stream",
     "text": [
      "X  | O  | \n",
      "- + - + -\n",
      "  |   | \n",
      "- + - + -\n",
      "  |   | \n",
      "\n"
     ]
    },
    {
     "name": "stdin",
     "output_type": "stream",
     "text": [
      "Turn for X. Move to which space? Eg:(top-l/c/r, mid-l/c/r, bot-l/c/r) mid-l\n"
     ]
    },
    {
     "name": "stdout",
     "output_type": "stream",
     "text": [
      "X  | O  | \n",
      "- + - + -\n",
      "X  |   | \n",
      "- + - + -\n",
      "  |   | \n",
      "\n"
     ]
    },
    {
     "name": "stdin",
     "output_type": "stream",
     "text": [
      "Turn for O. Move to which space? Eg:(top-l/c/r, mid-l/c/r, bot-l/c/r) top-r\n"
     ]
    },
    {
     "name": "stdout",
     "output_type": "stream",
     "text": [
      "X  | O  | O\n",
      "- + - + -\n",
      "X  |   | \n",
      "- + - + -\n",
      "  |   | \n",
      "\n"
     ]
    },
    {
     "name": "stdin",
     "output_type": "stream",
     "text": [
      "Turn for X. Move to which space? Eg:(top-l/c/r, mid-l/c/r, bot-l/c/r) bot-l\n"
     ]
    },
    {
     "name": "stdout",
     "output_type": "stream",
     "text": [
      "X  | O  | O\n",
      "- + - + -\n",
      "X  |   | \n",
      "- + - + -\n",
      "X  |   | \n",
      "Congratulations! X wins!\n"
     ]
    }
   ],
   "source": [
    "from Tictactoe import *\n",
    "game = Tictactoe()\n",
    "game.play_tictactoe()"
   ]
  },
  {
   "cell_type": "code",
   "execution_count": null,
   "id": "0b5434b8-dd6f-4d9d-84b9-aef41d30008b",
   "metadata": {},
   "outputs": [],
   "source": []
  },
  {
   "cell_type": "code",
   "execution_count": null,
   "id": "da269bba-911f-4d88-aa63-828965c4a22b",
   "metadata": {},
   "outputs": [],
   "source": []
  }
 ],
 "metadata": {
  "kernelspec": {
   "display_name": "Python 3 (ipykernel)",
   "language": "python",
   "name": "python3"
  },
  "language_info": {
   "codemirror_mode": {
    "name": "ipython",
    "version": 3
   },
   "file_extension": ".py",
   "mimetype": "text/x-python",
   "name": "python",
   "nbconvert_exporter": "python",
   "pygments_lexer": "ipython3",
   "version": "3.11.7"
  }
 },
 "nbformat": 4,
 "nbformat_minor": 5
}
